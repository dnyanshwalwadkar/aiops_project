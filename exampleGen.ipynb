{
 "cells": [
  {
   "cell_type": "code",
   "execution_count": null,
   "id": "17d9657c-dc0a-4c47-adbc-896d85eda4d9",
   "metadata": {},
   "outputs": [],
   "source": []
  },
  {
   "cell_type": "code",
   "execution_count": 1,
   "id": "89ae4a70-f1ec-4a9b-b283-eca42bc3b02d",
   "metadata": {},
   "outputs": [
    {
     "name": "stdout",
     "output_type": "stream",
     "text": [
      "data.csv\n"
     ]
    }
   ],
   "source": [
    "!ls data"
   ]
  },
  {
   "cell_type": "code",
   "execution_count": 2,
   "id": "cdf6fa02-1aae-45c7-b79f-2b7ef60fc371",
   "metadata": {},
   "outputs": [],
   "source": [
    "import os"
   ]
  },
  {
   "cell_type": "code",
   "execution_count": 3,
   "id": "de2aae04-b68a-4b74-ba1a-b9935d0e8985",
   "metadata": {},
   "outputs": [],
   "source": [
    "csv_file_path = os.path.join(os.getcwd(),\"data\",\"data.csv\")"
   ]
  },
  {
   "cell_type": "code",
   "execution_count": 4,
   "id": "74c11a2c-e0fc-4fe7-a1e5-d843d5f934b2",
   "metadata": {},
   "outputs": [
    {
     "data": {
      "text/plain": [
       "True"
      ]
     },
     "execution_count": 4,
     "metadata": {},
     "output_type": "execute_result"
    }
   ],
   "source": [
    "os.path.exists(csv_file_path)"
   ]
  },
  {
   "cell_type": "code",
   "execution_count": 23,
   "id": "ae18ba23-633f-445a-8585-34ff1d021a58",
   "metadata": {},
   "outputs": [],
   "source": [
    "class Config:\n",
    "\n",
    "    def __init__(self):\n",
    "        self.work_dir=workdir\n",
    "        self.data_dir=os.path.join(\"data\")\n",
    "        self.csv_file_name=\"data.csv\"\n",
    "        self.csv_file_path=os.path.join(self.data_dir,self.csv_file_name)\n",
    "        self.pipeline_name=\"aiops_pipeline\"\n",
    "        self.pipeline_root=os.path.join(os.getcwd(),\"aiops_pipeline_artifact\")\n",
    "        self.meta_data_path=os.path.join(os.getcwd(),\"aiops_pipeline_metadata\",self.pipeline_name,\"metadata.db\")\n",
    "\n",
    "    \n",
    "\n"
   ]
  },
  {
   "cell_type": "code",
   "execution_count": 5,
   "id": "71b2b647-0d08-4e16-a432-d92d4a4b6134",
   "metadata": {},
   "outputs": [
    {
     "data": {
      "text/plain": [
       "'/home/avnish/class_12_AIOPS_PROJECTS/aiops_projects/data/data.csv'"
      ]
     },
     "execution_count": 5,
     "metadata": {},
     "output_type": "execute_result"
    }
   ],
   "source": [
    "csv_file_path"
   ]
  },
  {
   "cell_type": "code",
   "execution_count": 12,
   "id": "878b3c87-d39b-4eaf-b32d-5e5acb37eac2",
   "metadata": {},
   "outputs": [],
   "source": [
    "import csv"
   ]
  },
  {
   "cell_type": "code",
   "execution_count": 16,
   "id": "4b124803-a65c-40d4-8ecc-e98e469e961f",
   "metadata": {},
   "outputs": [
    {
     "name": "stderr",
     "output_type": "stream",
     "text": [
      "2022-03-12 21:17:06.771425: W tensorflow/stream_executor/platform/default/dso_loader.cc:64] Could not load dynamic library 'libcudart.so.11.0'; dlerror: libcudart.so.11.0: cannot open shared object file: No such file or directory\n",
      "2022-03-12 21:17:06.771445: I tensorflow/stream_executor/cuda/cudart_stub.cc:29] Ignore above cudart dlerror if you do not have a GPU set up on your machine.\n"
     ]
    }
   ],
   "source": [
    "import tensorflow as tf"
   ]
  },
  {
   "cell_type": "code",
   "execution_count": 17,
   "id": "9520a006-768d-491b-add4-93d6fe515609",
   "metadata": {},
   "outputs": [],
   "source": [
    "tf_record_dir = os.path.join(os.getcwd(),\"tf_record_files\")"
   ]
  },
  {
   "cell_type": "code",
   "execution_count": 19,
   "id": "c259ca1b-5a1f-46d2-b1a0-1a2dd373898c",
   "metadata": {},
   "outputs": [],
   "source": [
    "os.makedirs(tf_record_dir,exist_ok=True)"
   ]
  },
  {
   "cell_type": "code",
   "execution_count": 20,
   "id": "4de3d159-88a6-4481-95a3-029b802b5e48",
   "metadata": {},
   "outputs": [],
   "source": [
    "tf_record_file_name=os.path.join(tf_record_dir,\"data.tfrecord\")"
   ]
  },
  {
   "cell_type": "code",
   "execution_count": 21,
   "id": "ed2c886f-ea2f-4c41-9ae6-c9b4e67dff38",
   "metadata": {},
   "outputs": [],
   "source": [
    "tf_record_writer = tf.io.TFRecordWriter(tf_record_file_name)"
   ]
  },
  {
   "cell_type": "code",
   "execution_count": null,
   "id": "6decbbff-da20-4ea6-9b5a-378ed6c84ca0",
   "metadata": {},
   "outputs": [],
   "source": []
  },
  {
   "cell_type": "code",
   "execution_count": 60,
   "id": "074dae0f-1de0-456d-b816-ec987906bf1d",
   "metadata": {},
   "outputs": [],
   "source": [
    "def _bytes_features(value):\n",
    "    value=value.encode()\n",
    "    return  tf.train.Feature(bytes_list=tf.train.BytesList(value=[value]))"
   ]
  },
  {
   "cell_type": "code",
   "execution_count": 61,
   "id": "3714e9ab-15e0-4068-8ca4-bd1b873f19c0",
   "metadata": {},
   "outputs": [],
   "source": [
    "def _int64_feature(value):\n",
    "    return tf.train.Feature(int64_list = tf.train.Int64List(value=[value]))"
   ]
  },
  {
   "cell_type": "code",
   "execution_count": 62,
   "id": "9853c8d6-1fcc-4f08-a922-4a211a89150f",
   "metadata": {},
   "outputs": [],
   "source": [
    "def _float_feature(value):\n",
    "    return tf.train.Feature(float_list =tf.train.FloatList(value=[value]))"
   ]
  },
  {
   "cell_type": "code",
   "execution_count": 72,
   "id": "11fe8a44-9113-4a42-976e-2b28c8391de8",
   "metadata": {},
   "outputs": [],
   "source": [
    "with open(csv_file_path) as csv_file:\n",
    "    reader = csv.DictReader(csv_file,delimiter=\",\",quotechar='\"')\n",
    "    for row in reader:\n",
    "        feature={\n",
    "           \"pickup_community_area\": _bytes_features(row['pickup_community_area']),\n",
    "            \"trip_start_month\":_int64_feature(int(row['trip_start_month'])),\n",
    "            \"fare\":_float_feature(float(row[\"fare\"]))\n",
    "           \n",
    "        }\n",
    "        features = tf.train.Features(feature=feature)\n",
    "        example = tf.train.Example(features=features)\n",
    "        tf_record_writer.write(example.SerializeToString())\n",
    "        \n",
    "tf_record_writer.close()\n",
    "        \n",
    "        \n",
    "        \n",
    "        \n",
    "        \n",
    "\n",
    "        "
   ]
  },
  {
   "cell_type": "code",
   "execution_count": 67,
   "id": "862a9f99-ecfa-4228-be49-37588ef1e705",
   "metadata": {},
   "outputs": [
    {
     "data": {
      "text/plain": [
       "{'pickup_community_area': bytes_list {\n",
       "   value: \"60\"\n",
       " },\n",
       " 'trip_start_month': int64_list {\n",
       "   value: 10\n",
       " },\n",
       " 'fare': float_list {\n",
       "   value: 27.049999237060547\n",
       " }}"
      ]
     },
     "execution_count": 67,
     "metadata": {},
     "output_type": "execute_result"
    }
   ],
   "source": [
    "\n",
    "feature\n",
    "\n"
   ]
  },
  {
   "cell_type": "code",
   "execution_count": 54,
   "id": "99d9617b-e0af-467d-aed4-2391a18b9cc1",
   "metadata": {},
   "outputs": [],
   "source": [
    "row_example = tf.train.Example(features= tf.train.Features(feature= {\"name\":tf.train.Feature(bytes_list=_bytes_features(\"avnish\")),\n",
    "                                                      \"age\":tf.train.Feature(int64_list = _int64_feature(23))\n",
    "                                                      \n",
    "                                                      }))"
   ]
  },
  {
   "cell_type": "code",
   "execution_count": null,
   "id": "a215b9d4-6880-426c-8a2a-2389c5ce0631",
   "metadata": {},
   "outputs": [],
   "source": []
  },
  {
   "cell_type": "code",
   "execution_count": 55,
   "id": "d4b3ca7c-7ab9-4ebf-998a-825f53bf83c5",
   "metadata": {},
   "outputs": [
    {
     "data": {
      "text/plain": [
       "b'\\n\"\\n\\x0c\\n\\x03age\\x12\\x05\\x1a\\x03\\n\\x01\\x17\\n\\x12\\n\\x04name\\x12\\n\\n\\x08\\n\\x06avnish'"
      ]
     },
     "execution_count": 55,
     "metadata": {},
     "output_type": "execute_result"
    }
   ],
   "source": [
    "row_example.SerializeToString()"
   ]
  },
  {
   "cell_type": "code",
   "execution_count": 15,
   "id": "768ad6e9-1975-478a-adb7-563af9589bc5",
   "metadata": {},
   "outputs": [
    {
     "data": {
      "text/plain": [
       "'60'"
      ]
     },
     "execution_count": 15,
     "metadata": {},
     "output_type": "execute_result"
    }
   ],
   "source": [
    "row['pickup_community_area']"
   ]
  },
  {
   "cell_type": "code",
   "execution_count": 29,
   "id": "36683181-1ae2-4ce9-839c-cd7a11a7e1b7",
   "metadata": {},
   "outputs": [
    {
     "data": {
      "text/plain": [
       "value: \"avnish\""
      ]
     },
     "execution_count": 29,
     "metadata": {},
     "output_type": "execute_result"
    }
   ],
   "source": [
    "_bytes_features(value=\"avnish\")"
   ]
  },
  {
   "cell_type": "code",
   "execution_count": 31,
   "id": "d8846c36-ee6b-471d-8518-ad1b7dc07f15",
   "metadata": {},
   "outputs": [
    {
     "data": {
      "text/plain": [
       "value: 34"
      ]
     },
     "execution_count": 31,
     "metadata": {},
     "output_type": "execute_result"
    }
   ],
   "source": [
    "_int64_feature(value=34)"
   ]
  },
  {
   "cell_type": "code",
   "execution_count": 33,
   "id": "3431a0f7-0584-4e7e-9dff-d1b6754e9ef0",
   "metadata": {},
   "outputs": [
    {
     "data": {
      "text/plain": [
       "value: 3.0"
      ]
     },
     "execution_count": 33,
     "metadata": {},
     "output_type": "execute_result"
    }
   ],
   "source": [
    "_float_feature(value=3.0)"
   ]
  },
  {
   "cell_type": "code",
   "execution_count": 73,
   "id": "5d216438-3c96-4f67-8a22-7d7629d17bcd",
   "metadata": {},
   "outputs": [],
   "source": [
    "from tfx.components import CsvExampleGen"
   ]
  },
  {
   "cell_type": "code",
   "execution_count": 74,
   "id": "4e56d9d2-2daa-4a40-9f72-e46b0cef7b01",
   "metadata": {},
   "outputs": [],
   "source": [
    "csv_example_gen = CsvExampleGen(input_base=os.path.join(os.getcwd(),\"data\"))"
   ]
  },
  {
   "cell_type": "code",
   "execution_count": 75,
   "id": "982c4845-35bf-45d7-892d-48b967f07acd",
   "metadata": {},
   "outputs": [
    {
     "data": {
      "text/plain": [
       "CsvExampleGen(spec: <tfx.types.standard_component_specs.FileBasedExampleGenSpec object at 0x7f3d7194f320>, executor_spec: <tfx.dsl.components.base.executor_spec.BeamExecutorSpec object at 0x7f3d7194f0b8>, driver_class: <class 'tfx.components.example_gen.driver.FileBasedDriver'>, component_id: CsvExampleGen, inputs: {}, outputs: {'examples': Channel(\n",
       "    type_name: Examples\n",
       "    artifacts: []\n",
       "    additional_properties: {}\n",
       "    additional_custom_properties: {}\n",
       ")})"
      ]
     },
     "execution_count": 75,
     "metadata": {},
     "output_type": "execute_result"
    }
   ],
   "source": [
    "csv_example_gen"
   ]
  },
  {
   "cell_type": "markdown",
   "id": "d8f7fcf0-154f-4df2-94e2-ddcdba25b77a",
   "metadata": {},
   "source": [
    "## To create parquet file from csv file"
   ]
  },
  {
   "cell_type": "code",
   "execution_count": 31,
   "id": "8e5c88df-2a83-45b3-adeb-3ea0e224aa72",
   "metadata": {},
   "outputs": [],
   "source": [
    "import pandas as pd"
   ]
  },
  {
   "cell_type": "code",
   "execution_count": 32,
   "id": "bcc2be93-5383-40b5-9b54-9184cf03ac7c",
   "metadata": {},
   "outputs": [],
   "source": [
    "parquet_dataset_dir = os.path.join(os.getcwd(),\"parquet_dir\")\n",
    "\n",
    "os.makedirs(parquet_dataset_dir,exist_ok=True)"
   ]
  },
  {
   "cell_type": "code",
   "execution_count": 33,
   "id": "c8aa3212-4d54-4b6c-84b2-28b2afbb427a",
   "metadata": {},
   "outputs": [],
   "source": [
    "parquet_file_name=\"data.parquet\""
   ]
  },
  {
   "cell_type": "code",
   "execution_count": 34,
   "id": "1fb788ea-ff88-4486-a072-30e6fbf64c54",
   "metadata": {},
   "outputs": [],
   "source": [
    "parquet_file_path  = os.path.join(parquet_dataset_dir,parquet_file_name)"
   ]
  },
  {
   "cell_type": "code",
   "execution_count": 35,
   "id": "2d0af9c3-8bdf-4ff7-a7eb-02a09d4be49f",
   "metadata": {},
   "outputs": [
    {
     "data": {
      "text/plain": [
       "'/home/avnish/class_12_AIOPS_PROJECTS/aiops_projects/parquet_dir/data.parquet'"
      ]
     },
     "execution_count": 35,
     "metadata": {},
     "output_type": "execute_result"
    }
   ],
   "source": [
    "parquet_file_path"
   ]
  },
  {
   "cell_type": "code",
   "execution_count": 36,
   "id": "d743014e-d19e-4246-8a24-5629897ebf98",
   "metadata": {},
   "outputs": [],
   "source": [
    "pd.read_csv(csv_file_path).to_parquet(parquet_file_path,index=None)"
   ]
  },
  {
   "cell_type": "code",
   "execution_count": 15,
   "id": "d5b8b59a-3ab2-4a83-92c6-3e9297bfd443",
   "metadata": {},
   "outputs": [],
   "source": []
  },
  {
   "cell_type": "code",
   "execution_count": 16,
   "id": "87fbac12-4d43-40bc-b3ba-c36e97317599",
   "metadata": {},
   "outputs": [],
   "source": []
  },
  {
   "cell_type": "code",
   "execution_count": 17,
   "id": "ba584748-4f7a-4550-9660-dcb719cc08be",
   "metadata": {},
   "outputs": [],
   "source": []
  },
  {
   "cell_type": "code",
   "execution_count": 19,
   "id": "0943a929-72b9-44b4-90d4-305bb49b54a0",
   "metadata": {},
   "outputs": [],
   "source": []
  },
  {
   "cell_type": "code",
   "execution_count": 22,
   "id": "f25cbe34-5693-4835-b5fe-131c72ffea35",
   "metadata": {},
   "outputs": [
    {
     "data": {
      "text/plain": [
       "{'examples': Channel(\n",
       "     type_name: Examples\n",
       "     artifacts: []\n",
       "     additional_properties: {}\n",
       "     additional_custom_properties: {}\n",
       " )}"
      ]
     },
     "execution_count": 22,
     "metadata": {},
     "output_type": "execute_result"
    }
   ],
   "source": [
    "file_based_example_gen.outputs"
   ]
  },
  {
   "cell_type": "code",
   "execution_count": 27,
   "id": "15e8b01b-5119-4848-a1b2-8abfcfa65ef4",
   "metadata": {},
   "outputs": [
    {
     "ename": "NameError",
     "evalue": "name 'workdir' is not defined",
     "output_type": "error",
     "traceback": [
      "\u001b[0;31m---------------------------------------------------------------------------\u001b[0m",
      "\u001b[0;31mNameError\u001b[0m                                 Traceback (most recent call last)",
      "\u001b[0;32m/tmp/ipykernel_8824/2398032779.py\u001b[0m in \u001b[0;36m<module>\u001b[0;34m\u001b[0m\n\u001b[0;32m----> 1\u001b[0;31m \u001b[0mconfig\u001b[0m \u001b[0;34m=\u001b[0m \u001b[0mConfig\u001b[0m\u001b[0;34m(\u001b[0m\u001b[0;34m)\u001b[0m\u001b[0;34m\u001b[0m\u001b[0m\n\u001b[0m",
      "\u001b[0;32m/tmp/ipykernel_8824/2692744755.py\u001b[0m in \u001b[0;36m__init__\u001b[0;34m(self)\u001b[0m\n\u001b[1;32m      2\u001b[0m \u001b[0;34m\u001b[0m\u001b[0m\n\u001b[1;32m      3\u001b[0m     \u001b[0;32mdef\u001b[0m \u001b[0m__init__\u001b[0m\u001b[0;34m(\u001b[0m\u001b[0mself\u001b[0m\u001b[0;34m)\u001b[0m\u001b[0;34m:\u001b[0m\u001b[0;34m\u001b[0m\u001b[0m\n\u001b[0;32m----> 4\u001b[0;31m         \u001b[0mself\u001b[0m\u001b[0;34m.\u001b[0m\u001b[0mwork_dir\u001b[0m\u001b[0;34m=\u001b[0m\u001b[0mworkdir\u001b[0m\u001b[0;34m\u001b[0m\u001b[0m\n\u001b[0m\u001b[1;32m      5\u001b[0m         \u001b[0mself\u001b[0m\u001b[0;34m.\u001b[0m\u001b[0mdata_dir\u001b[0m\u001b[0;34m=\u001b[0m\u001b[0mos\u001b[0m\u001b[0;34m.\u001b[0m\u001b[0mpath\u001b[0m\u001b[0;34m.\u001b[0m\u001b[0mjoin\u001b[0m\u001b[0;34m(\u001b[0m\u001b[0;34m\"data\"\u001b[0m\u001b[0;34m)\u001b[0m\u001b[0;34m\u001b[0m\u001b[0m\n\u001b[1;32m      6\u001b[0m         \u001b[0mself\u001b[0m\u001b[0;34m.\u001b[0m\u001b[0mcsv_file_name\u001b[0m\u001b[0;34m=\u001b[0m\u001b[0;34m\"data.csv\"\u001b[0m\u001b[0;34m\u001b[0m\u001b[0m\n",
      "\u001b[0;31mNameError\u001b[0m: name 'workdir' is not defined"
     ]
    }
   ],
   "source": [
    "config = Config()"
   ]
  },
  {
   "cell_type": "code",
   "execution_count": 28,
   "id": "8883b39c-7e94-4c23-965d-1e3cdf49cd94",
   "metadata": {},
   "outputs": [],
   "source": [
    "from tfx.orchestration.experimental.interactive.interactive_context import InteractiveContext"
   ]
  },
  {
   "cell_type": "code",
   "execution_count": 29,
   "id": "e8c7491e-4ec6-4c85-bbad-a0be481ebd1a",
   "metadata": {},
   "outputs": [
    {
     "ename": "NameError",
     "evalue": "name 'config' is not defined",
     "output_type": "error",
     "traceback": [
      "\u001b[0;31m---------------------------------------------------------------------------\u001b[0m",
      "\u001b[0;31mNameError\u001b[0m                                 Traceback (most recent call last)",
      "\u001b[0;32m/tmp/ipykernel_8824/4137047268.py\u001b[0m in \u001b[0;36m<module>\u001b[0;34m\u001b[0m\n\u001b[1;32m      1\u001b[0m interactive_context=InteractiveContext(\n\u001b[0;32m----> 2\u001b[0;31m     \u001b[0mpipeline_name\u001b[0m\u001b[0;34m=\u001b[0m\u001b[0mconfig\u001b[0m\u001b[0;34m.\u001b[0m\u001b[0mpipeline_name\u001b[0m\u001b[0;34m,\u001b[0m\u001b[0;34m\u001b[0m\u001b[0m\n\u001b[0m\u001b[1;32m      3\u001b[0m     \u001b[0mpipeline_root\u001b[0m\u001b[0;34m=\u001b[0m\u001b[0mconfig\u001b[0m\u001b[0;34m.\u001b[0m\u001b[0mpipeline_root\u001b[0m\u001b[0;34m,\u001b[0m\u001b[0;34m\u001b[0m\u001b[0m\n\u001b[1;32m      4\u001b[0m     \u001b[0mmetadata_connection_config\u001b[0m\u001b[0;34m=\u001b[0m\u001b[0msqlite_metadata_connection_config\u001b[0m\u001b[0;34m(\u001b[0m\u001b[0mconfig\u001b[0m\u001b[0;34m.\u001b[0m\u001b[0mmeta_data_path\u001b[0m\u001b[0;34m)\u001b[0m\u001b[0;34m\u001b[0m\u001b[0m\n\u001b[1;32m      5\u001b[0m \u001b[0;34m\u001b[0m\u001b[0m\n",
      "\u001b[0;31mNameError\u001b[0m: name 'config' is not defined"
     ]
    }
   ],
   "source": [
    "interactive_context=InteractiveContext(\n",
    "    pipeline_name=config.pipeline_name,\n",
    "    pipeline_root=config.pipeline_root,\n",
    "    metadata_connection_config=sqlite_metadata_connection_config(config.meta_data_path)\n",
    "\n",
    ")"
   ]
  },
  {
   "cell_type": "code",
   "execution_count": null,
   "id": "c3206757-dfba-40e8-a293-47f2fad948fb",
   "metadata": {},
   "outputs": [],
   "source": []
  }
 ],
 "metadata": {
  "kernelspec": {
   "display_name": "Python 3 (ipykernel)",
   "language": "python",
   "name": "python3"
  },
  "language_info": {
   "codemirror_mode": {
    "name": "ipython",
    "version": 3
   },
   "file_extension": ".py",
   "mimetype": "text/x-python",
   "name": "python",
   "nbconvert_exporter": "python",
   "pygments_lexer": "ipython3",
   "version": "3.7.0"
  }
 },
 "nbformat": 4,
 "nbformat_minor": 5
}
